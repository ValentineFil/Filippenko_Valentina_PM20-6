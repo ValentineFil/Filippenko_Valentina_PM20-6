{
 "cells": [
  {
   "cell_type": "code",
   "execution_count": null,
   "metadata": {},
   "outputs": [],
   "source": [
    "# РАСПИСАНИЕ"
   ]
  },
  {
   "cell_type": "code",
   "execution_count": null,
   "metadata": {},
   "outputs": [],
   "source": [
    "def table(data_today):\n",
    "    import requests\n",
    "    from bs4 import BeautifulSoup\n",
    "\n",
    "    try:\n",
    "        base_url = 'https://kinoteatr.ru/kinoafisha/?date=data_today'\n",
    "        r = requests.get(base_url)\n",
    "        soup = BeautifulSoup(r.text, 'lxml')\n",
    "        time_table = {}\n",
    "\n",
    "        for i in soup.findAll('div', class_='col-md-2 col-sm-6 col-xs-12 movie_card'):\n",
    "            href = i.find('a',class_ = 'movie_card_clickable_zone gtm-ec-list-item-movie')['href']\n",
    "            name = i.find('span', class_='movie_card_header title').text.strip()\n",
    "            time_table[name] = {}\n",
    "            r_cinema = requests.get(href)\n",
    "            soup_cin = BeautifulSoup(r_cinema.text, 'lxml')\n",
    "    \n",
    "            for cinemas in soup_cin.findAll('div', class_= 'cinema'):\n",
    "                time_block = []\n",
    "                name_kino = cinemas.find('div', class_ = 'name').text.strip()\n",
    "                for time in cinemas.findAll('div', class_ = 'time'):\n",
    "                    t = time.text.strip()[0:5]\n",
    "                    time_block.append(t)\n",
    "                time_table[name][name_kino] = time_block\n",
    "        return time_table\n",
    "    except KeyError:\n",
    "        print('введи правильный url')\n",
    "table('2020-12-01')\n",
    "\n",
    "    "
   ]
  },
  {
   "cell_type": "code",
   "execution_count": null,
   "metadata": {},
   "outputs": [],
   "source": [
    "# тоже самое без функции"
   ]
  },
  {
   "cell_type": "code",
   "execution_count": null,
   "metadata": {},
   "outputs": [],
   "source": [
    "import requests\n",
    "from bs4 import BeautifulSoup\n",
    "\n",
    "#base_url = 'https://kinoteatr.ru/kinoafisha/?date=2020-12-01'\n",
    "try:\n",
    "    base_url = 'asdf'\n",
    "    r = requests.get(base_url)\n",
    "    soup = BeautifulSoup(r.text, 'lxml')\n",
    "    time_table = {}\n",
    "\n",
    "    for i in soup.findAll('div', class_='col-md-2 col-sm-6 col-xs-12 movie_card'):\n",
    "        href = i.find('a',class_ = 'movie_card_clickable_zone gtm-ec-list-item-movie')['href']\n",
    "        name = i.find('span', class_='movie_card_header title').text.strip()\n",
    "        time_table[name] = {}\n",
    "        r_cinema = requests.get(href)\n",
    "        soup_cin = BeautifulSoup(r_cinema.text, 'lxml')\n",
    "    \n",
    "        for cinemas in soup_cin.findAll('div', class_= 'cinema'):\n",
    "            time_block = []\n",
    "            name_kino = cinemas.find('div', class_ = 'name').text.strip()\n",
    "            for time in cinemas.findAll('div', class_ = 'time'):\n",
    "                t = time.text.strip()[0:5]\n",
    "                time_block.append(t)\n",
    "            time_table[name][name_kino] = time_block \n",
    "    print(time_table) \n",
    "except:\n",
    "    print('введи правильный url')"
   ]
  }
 ],
 "metadata": {
  "kernelspec": {
   "display_name": "Python 3",
   "language": "python",
   "name": "python3"
  },
  "language_info": {
   "codemirror_mode": {
    "name": "ipython",
    "version": 3
   },
   "file_extension": ".py",
   "mimetype": "text/x-python",
   "name": "python",
   "nbconvert_exporter": "python",
   "pygments_lexer": "ipython3",
   "version": "3.8.3"
  }
 },
 "nbformat": 4,
 "nbformat_minor": 4
}
