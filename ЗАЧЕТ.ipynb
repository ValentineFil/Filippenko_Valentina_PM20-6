{
 "cells": [
  {
   "cell_type": "code",
   "execution_count": null,
   "metadata": {},
   "outputs": [],
   "source": [
    "N = 4\n",
    "M = 3\n",
    "func = lambda N, M:{i:[i**j for j in range(M+1)] for i in range(1, N+1)}\n",
    "func(N,M)"
   ]
  },
  {
   "cell_type": "code",
   "execution_count": null,
   "metadata": {},
   "outputs": [],
   "source": [
    "import pandas as pd\n",
    "def result(name_book, adress_shop_id):\n",
    "    try:\n",
    "        book = pd.read_csv('books.csv', delimiter=';', encoding = 'cp1251')\n",
    "        shops =  pd.read_csv('shops.csv', delimiter=';', encoding = 'cp1251')\n",
    "        df = book\n",
    "        df1 = shops\n",
    "        #удаляем ненужные столбцы по их индексу\n",
    "        book = df.drop(df.columns[[0, 2, 3, 4]], axis=1)\n",
    "        shops = df1.drop(df1.columns[[0]], axis=1)\n",
    "        if not shops.set_index('address').index.get_loc(adress_shop_id)[shops.loc[shops['name'] == adress_shop_id].index[0]]:\n",
    "            return False\n",
    "        else:\n",
    "            return True\n",
    "    except KeyError:\n",
    "        print('таких значений нет')\n",
    "\n",
    "\n",
    "print(book)\n",
    "print(shops)"
   ]
  }
 ],
 "metadata": {
  "kernelspec": {
   "display_name": "Python 3",
   "language": "python",
   "name": "python3"
  },
  "language_info": {
   "codemirror_mode": {
    "name": "ipython",
    "version": 3
   },
   "file_extension": ".py",
   "mimetype": "text/x-python",
   "name": "python",
   "nbconvert_exporter": "python",
   "pygments_lexer": "ipython3",
   "version": "3.8.3"
  }
 },
 "nbformat": 4,
 "nbformat_minor": 4
}
